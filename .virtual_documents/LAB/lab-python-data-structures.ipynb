





#1 Define a list called 'products'

products = ["t-shirt", "mug", "hat", "book", "keychain"]


#2 Create an empty dictionary called 'inventory'

inventory = {}


#3 Ask the user to input the quantity of each product available in the inventory

for product in products:
    quantity = int(input(f"Enter the quantity for {product}: "))
    inventory[product] = quantity


print(inventory)


#4 Create an empty set called 'customer_orders'

customer_orders = set()


#5 Ask the user to input the name of three products that a customer wants to order

for i in range(3):
    order = input("Enter a product name for the order (t-shirt, mug, hat, book, keychain): ").lower()
    if order in products:
        customer_orders.add(order)
    else:
        print(f"{product} is not available in the product list.")


#6 Print the products

print("Customer Orders:", customer_orders)


#7-8 Calculate and print statistics

total_products_ordered = len(customer_orders)
print(total_products_ordered)
      
percentage_ordered = (total_products_ordered / len(products)) * 100
print(percentage_ordered)

order_status = (total_products_ordered, percentage_ordered)
print(order_status)


#9-10 Update and print the updated inventory

for product in customer_orders:
    if inventory[product] > 0:
        inventory[product] -= 1

print("Updated Inventory:")
for product, quantity in inventory.items():
    print(f"{product}: {quantity}")
